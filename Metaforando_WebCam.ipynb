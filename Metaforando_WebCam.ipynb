{
  "cells": [
    {
      "cell_type": "markdown",
      "metadata": {
        "id": "view-in-github",
        "colab_type": "text"
      },
      "source": [
        "<a href=\"https://colab.research.google.com/github/andrejfg/Metaforando-Webcam/blob/main/Metaforando_WebCam.ipynb\" target=\"_parent\"><img src=\"https://colab.research.google.com/assets/colab-badge.svg\" alt=\"Open In Colab\"/></a>"
      ]
    },
    {
      "cell_type": "markdown",
      "source": [
        "# Metaforando - WebCam\n",
        "Essa aplicação utiliza modelos de classificação de emoções gerado pelo keras. A classificação do modelo é apresentada em tempo real de acordo com a imagem recebida pela webcam em tempo real.\n",
        "Para isto, o algoritmo precisa reconhecer cada rosto e classificar a expressão facial de acordo com o modelo.\n",
        "\n",
        "Essa aplicação utiliza dois modelos de reconhecimentos faciais:\n",
        "* OpenCV Haar Cascades  - https://docs.opencv.org/3.4/db/d28/tutorial_cascade_classifier.html\n",
        "* Face Recognition - https://pypi.org/project/face-recognition/\n",
        "\n",
        "O modelo da biblioteca Face Recognition possui uma acurácia de 99.38% para reconhecimento de faces, mas é necessário a execução em um ambiente com GPU CUDA. Para ambientes que não possuem GPU CUDA, será utilizado o modelo de reconhecimento de rosto do OpenCV Haar Cascades, que mostrou resultados satisfatórios.  "
      ],
      "metadata": {
        "id": "ctZ3gFu5WEUP"
      }
    },
    {
      "cell_type": "markdown",
      "source": [
        "# Configurações de execução"
      ],
      "metadata": {
        "id": "pnGAAAxvJ5Ag"
      }
    },
    {
      "cell_type": "markdown",
      "source": [
        "É definido o caminho onde é encontrado o modelo treinado pelo keras e salvo no Google Drive.\n",
        "\n",
        "Também deve ser definido o tamanho da entrada da imagem que o modelo foi treinado.\n",
        "\n",
        "Em seguida é definido os rótulos de treinamento do modelo a ser carregado."
      ],
      "metadata": {
        "id": "_UqLAsr2YZy7"
      }
    },
    {
      "cell_type": "code",
      "source": [
        "path_of_model = PATH_OF_MODEL\n",
        "input_shape = (48,48)\n",
        "emocoes =[\n",
        "           'Raiva', \n",
        "           'Nojo',\n",
        "           'Medo', \n",
        "           'Alegria', \n",
        "           'Tristeza', \n",
        "           'Surpresa', \n",
        "           'Neutro'\n",
        "          ]"
      ],
      "metadata": {
        "id": "dG5b_TTBJ-Hk"
      },
      "execution_count": null,
      "outputs": []
    },
    {
      "cell_type": "markdown",
      "source": [
        "## Importações"
      ],
      "metadata": {
        "id": "ldHUhrQGVbhP"
      }
    },
    {
      "cell_type": "code",
      "execution_count": null,
      "metadata": {
        "id": "Ax5rLsxN3EBR"
      },
      "outputs": [],
      "source": [
        "from keras import models\n",
        "from IPython.display import Image\n",
        "from IPython.display import display, Javascript\n",
        "from google.colab.output import eval_js\n",
        "from base64 import b64decode\n",
        "import cv2\n",
        "import PIL\n",
        "import io\n",
        "import numpy as np\n",
        "from keras.preprocessing.image import load_img\n",
        "from keras.preprocessing.image import img_to_array\n",
        "from base64 import b64decode, b64encode"
      ]
    },
    {
      "cell_type": "markdown",
      "source": [
        "## Verificação de GPU no ambiente de execução"
      ],
      "metadata": {
        "id": "0kK8FiQkDea1"
      }
    },
    {
      "cell_type": "code",
      "source": [
        "from tensorflow.config import list_physical_devices\n",
        "if len(list_physical_devices('GPU')) > 0:\n",
        "  face_model = \"GPU\"\n",
        "  !pip install face_recognition\n",
        "  import face_recognition\n",
        "else:\n",
        "  face_model = \"CPU\"\n",
        "  face_recognition = cv2.CascadeClassifier(cv2.samples.findFile(cv2.data.haarcascades + 'haarcascade_frontalface_default.xml'))"
      ],
      "metadata": {
        "id": "LWsCdp8aTm88"
      },
      "execution_count": null,
      "outputs": []
    },
    {
      "cell_type": "markdown",
      "metadata": {
        "id": "3MnZTx_rWF-h"
      },
      "source": [
        "\n",
        "\n",
        "## Importação do modelo no Google Drive"
      ]
    },
    {
      "cell_type": "code",
      "execution_count": null,
      "metadata": {
        "colab": {
          "base_uri": "https://localhost:8080/"
        },
        "id": "_FyHp83z48fA",
        "outputId": "70986777-3a96-4a90-8d00-a45cf8eab203"
      },
      "outputs": [
        {
          "output_type": "stream",
          "name": "stdout",
          "text": [
            "Mounted at /content/drive\n"
          ]
        }
      ],
      "source": [
        "from google.colab import drive\n",
        "drive.mount('/content/drive', force_remount=True)"
      ]
    },
    {
      "cell_type": "markdown",
      "source": [
        "Carregamento do modelo"
      ],
      "metadata": {
        "id": "dyhpAS8bY61k"
      }
    },
    {
      "cell_type": "code",
      "execution_count": null,
      "metadata": {
        "id": "IFVgVYYfYJX0"
      },
      "outputs": [],
      "source": [
        "modelo = models.load_model(path_of_model)"
      ]
    },
    {
      "cell_type": "markdown",
      "source": [
        "## Funções auxiliares"
      ],
      "metadata": {
        "id": "ruchv4PQEQvy"
      }
    },
    {
      "cell_type": "markdown",
      "source": [
        "js_to_image- Captura o frame da imagens e converte para uma imagem do opencv\n",
        "\n",
        "bbox_to_bytes- Converte a imagem gerada do openCV (caixa de reconhecimento do rosto, Rótulo da emoção) em sring para que seja projetado junto a imagem da webcam"
      ],
      "metadata": {
        "id": "FgDqfApbZIBz"
      }
    },
    {
      "cell_type": "code",
      "source": [
        "def js_to_image(js_reply):\n",
        "  \"\"\"\n",
        "  Params:\n",
        "          js_reply: JavaScript object containing image from webcam\n",
        "  Returns:\n",
        "          img: OpenCV BGR image\n",
        "  \"\"\"\n",
        "  # decode base64 image\n",
        "  image_bytes = b64decode(js_reply.split(',')[1])\n",
        "  # convert bytes to numpy array\n",
        "  jpg_as_np = np.frombuffer(image_bytes, dtype=np.uint8)\n",
        "  # decode numpy array into OpenCV BGR image\n",
        "  img = cv2.imdecode(jpg_as_np, flags=1)\n",
        "\n",
        "  return img\n",
        "\n",
        "def bbox_to_bytes(bbox_array):\n",
        "  \"\"\"\n",
        "  Params:\n",
        "          bbox_array: Numpy array (pixels) containing rectangle to overlay on video stream.\n",
        "  Returns:\n",
        "        bytes: Base64 image byte string\n",
        "  \"\"\"\n",
        "  # convert array into PIL image\n",
        "  bbox_PIL = PIL.Image.fromarray(bbox_array, 'RGBA')\n",
        "  iobuf = io.BytesIO()\n",
        "  # format bbox into png for return\n",
        "  bbox_PIL.save(iobuf, format='png')\n",
        "  # format return string\n",
        "  bbox_bytes = 'data:image/png;base64,{}'.format((str(b64encode(iobuf.getvalue()), 'utf-8')))\n",
        "\n",
        "  return bbox_bytes"
      ],
      "metadata": {
        "id": "YgsVxEPmZ1aL"
      },
      "execution_count": null,
      "outputs": []
    },
    {
      "cell_type": "markdown",
      "source": [
        "## Função principal para visualização da webcam"
      ],
      "metadata": {
        "id": "RbJLyfZ3EbQT"
      }
    },
    {
      "cell_type": "code",
      "execution_count": null,
      "metadata": {
        "id": "WoEuMyw-gOG8"
      },
      "outputs": [],
      "source": [
        "def video_stream():\n",
        "  js = Javascript('''\n",
        "    var video;\n",
        "    var div = null;\n",
        "    var stream;\n",
        "    var captureCanvas;\n",
        "    var imgElement;\n",
        "    var labelElement;\n",
        "    \n",
        "    var pendingResolve = null;\n",
        "    var shutdown = false;\n",
        "    \n",
        "    function removeDom() {\n",
        "       stream.getVideoTracks()[0].stop();\n",
        "       video.remove();\n",
        "       div.remove();\n",
        "       video = null;\n",
        "       div = null;\n",
        "       stream = null;\n",
        "       imgElement = null;\n",
        "       captureCanvas = null;\n",
        "       labelElement = null;\n",
        "    }\n",
        "    \n",
        "    function onAnimationFrame() {\n",
        "      if (!shutdown) {\n",
        "        window.requestAnimationFrame(onAnimationFrame);\n",
        "      }\n",
        "      if (pendingResolve) {\n",
        "        var result = \"\";\n",
        "        if (!shutdown) {\n",
        "          captureCanvas.getContext('2d').drawImage(video, 0, 0, 640, 480);\n",
        "          result = captureCanvas.toDataURL('image/jpeg', 0.8)\n",
        "        }\n",
        "        var lp = pendingResolve;\n",
        "        pendingResolve = null;\n",
        "        lp(result);\n",
        "      }\n",
        "    }\n",
        "    \n",
        "    async function createDom() {\n",
        "      if (div !== null) {\n",
        "        return stream;\n",
        "      }\n",
        "\n",
        "      div = document.createElement('div');\n",
        "      div.style.border = '2px solid black';\n",
        "      div.style.padding = '3px';\n",
        "      div.style.width = '100%';\n",
        "      div.style.maxWidth = '600px';\n",
        "      document.body.appendChild(div);\n",
        "      \n",
        "      const modelOut = document.createElement('div');\n",
        "      modelOut.innerHTML = \"<span>Status:</span>\";\n",
        "      labelElement = document.createElement('span');\n",
        "      labelElement.innerText = 'Sem imagem';\n",
        "      labelElement.style.fontWeight = 'bold';\n",
        "      modelOut.appendChild(labelElement);\n",
        "      div.appendChild(modelOut);\n",
        "           \n",
        "      video = document.createElement('video');\n",
        "      video.style.display = 'block';\n",
        "      video.width = div.clientWidth - 6;\n",
        "      video.setAttribute('playsinline', '');\n",
        "      video.onclick = () => { shutdown = true; };\n",
        "      stream = await navigator.mediaDevices.getUserMedia(\n",
        "          {video: { facingMode: \"environment\"}});\n",
        "      div.appendChild(video);\n",
        "\n",
        "      imgElement = document.createElement('img');\n",
        "      imgElement.style.position = 'absolute';\n",
        "      imgElement.style.zIndex = 1;\n",
        "      imgElement.onclick = () => { shutdown = true; };\n",
        "      div.appendChild(imgElement);\n",
        "      \n",
        "      const instruction = document.createElement('div');\n",
        "      instruction.innerHTML = \n",
        "          '<span style=\"color: red; font-weight: bold;\">' +\n",
        "          'Clique na imagem para encerrar a execução</span>';\n",
        "      div.appendChild(instruction);\n",
        "      instruction.onclick = () => { shutdown = true; };\n",
        "      \n",
        "      video.srcObject = stream;\n",
        "      await video.play();\n",
        "\n",
        "      captureCanvas = document.createElement('canvas');\n",
        "      captureCanvas.width = 640; //video.videoWidth;\n",
        "      captureCanvas.height = 480; //video.videoHeight;\n",
        "      window.requestAnimationFrame(onAnimationFrame);\n",
        "      \n",
        "      return stream;\n",
        "    }\n",
        "    async function stream_frame(label, imgData) {\n",
        "      if (shutdown) {\n",
        "        removeDom();\n",
        "        shutdown = false;\n",
        "        return '';\n",
        "      }\n",
        "\n",
        "      var preCreate = Date.now();\n",
        "      stream = await createDom();\n",
        "      \n",
        "      var preShow = Date.now();\n",
        "      if (label != \"\") {\n",
        "        labelElement.innerHTML = label;\n",
        "      }\n",
        "            \n",
        "      if (imgData != \"\") {\n",
        "        var videoRect = video.getClientRects()[0];\n",
        "        imgElement.style.top = videoRect.top + \"px\";\n",
        "        imgElement.style.left = videoRect.left + \"px\";\n",
        "        imgElement.style.width = videoRect.width + \"px\";\n",
        "        imgElement.style.height = videoRect.height + \"px\";\n",
        "        imgElement.src = imgData;\n",
        "      }\n",
        "      \n",
        "      var preCapture = Date.now();\n",
        "      var result = await new Promise(function(resolve, reject) {\n",
        "        pendingResolve = resolve;\n",
        "      });\n",
        "      shutdown = false;\n",
        "      \n",
        "      return {'create': preShow - preCreate, \n",
        "              'show': preCapture - preShow, \n",
        "              'capture': Date.now() - preCapture,\n",
        "              'img': result};\n",
        "    }\n",
        "    ''')\n",
        "\n",
        "  display(js)\n",
        "  \n",
        "def video_frame(label, bbox):\n",
        "  data = eval_js('stream_frame(\"{}\", \"{}\")'.format(label, bbox))\n",
        "  return data"
      ]
    },
    {
      "cell_type": "markdown",
      "source": [
        "## Função para classificação de emoções com modelo keras"
      ],
      "metadata": {
        "id": "R2bGhhCREpAp"
      }
    },
    {
      "cell_type": "markdown",
      "source": [
        "Além da classificação da emoção, também reconhece a maior probabilidade além de todas as outras probabilidades."
      ],
      "metadata": {
        "id": "6vVn80_ZbVKd"
      }
    },
    {
      "cell_type": "code",
      "execution_count": null,
      "metadata": {
        "id": "CXpmMGjchNYA"
      },
      "outputs": [],
      "source": [
        "def preprocessa_imagem(imagem, modelo):\n",
        "  imagem = imagem.astype(np.float64)/255\n",
        "  imagem = np.expand_dims(imagem, axis = 0)\n",
        "  probabilidades = modelo.predict(imagem)\n",
        "  probabilidades = probabilidades[0]\n",
        "  classificacao = np.argmax(probabilidades)\n",
        "  certeza = round(probabilidades[np.argmax(probabilidades)]*100, ndigits= 2)\n",
        "\n",
        "  return classificacao, certeza, probabilidades"
      ]
    },
    {
      "cell_type": "markdown",
      "source": [
        "A função de execução da aplicação apresenta cada frame e adiciona as caixas e rótulos quando necessário."
      ],
      "metadata": {
        "id": "3CCxO8dAbtrK"
      }
    },
    {
      "cell_type": "code",
      "execution_count": null,
      "metadata": {
        "id": "GsV1ljAbgOG-"
      },
      "outputs": [],
      "source": [
        "def executa_reconhecimento(face_recognition = face_recognition, face_model = face_model, input_shape = input_shape):\n",
        "  video_stream()\n",
        "  # label for video\n",
        "  label_html = 'Capturando...'\n",
        "  # initialze bounding box to empty\n",
        "  bbox = ''\n",
        "\n",
        "  font = cv2.FONT_HERSHEY_DUPLEX\n",
        "\n",
        "  while True:\n",
        "      js_reply = video_frame(label_html, bbox)\n",
        "      if not js_reply:\n",
        "          break\n",
        "\n",
        "      # convert JS response to OpenCV Image\n",
        "      img = js_to_image(js_reply[\"img\"])\n",
        "\n",
        "      # create transparent overlay for bounding box\n",
        "      bbox_array = np.zeros([480,640,4], dtype=np.uint8)\n",
        "\n",
        "      # grayscale image for face detection\n",
        "      gray = cv2.cvtColor(img, cv2.COLOR_RGB2GRAY)\n",
        "\n",
        "      # get face region coordinates\n",
        "      if face_model == \"GPU\":\n",
        "        faces = face_recognition.face_locations(gray)\n",
        "        for (top, right, bottom, left) in faces:\n",
        "          try:\n",
        "            img_predict = cv2.resize(gray[top:bottom, left:right],input_shape)\n",
        "            resultado = preprocessa_imagem(img_predict,modelo)\n",
        "            bbox_array = cv2.rectangle(bbox_array, (left-50, top-50), (right+50, bottom+50), (255, 0, 0), 2)\n",
        "            bbox_array = cv2.rectangle(bbox_array,(left-50, bottom + 15 ), (right+50, bottom+50), (255, 0, 0), cv2.FILLED)\n",
        "            bbox_array = cv2.putText(bbox_array,emocoes[resultado[0]], (left, bottom +40), font, 1.0, (255, 255, 255), 1)\n",
        "          except:\n",
        "            break\n",
        "      else:\n",
        "        faces = face_recognition.detectMultiScale(gray, 1.3, 5)\n",
        "        for (x, y, w, h) in faces:\n",
        "          try:\n",
        "            img_predict = cv2.resize(gray[y+25:y+h+25, x-25:x+w+25],(48,48))\n",
        "            resultado = preprocessa_imagem(img_predict,modelo)\n",
        "            bbox_array = cv2.rectangle(bbox_array, (x-25,y-25),(x+w+25,y+h+25), (255, 0, 0), 2)\n",
        "            bbox_array = cv2.rectangle(bbox_array,(x-25,y+h),(x+w+25,y+h+40), (255, 0, 0), cv2.FILLED)\n",
        "            bbox_array = cv2.putText(bbox_array,emocoes[resultado[0]], (x,y+h+30), font, 1.0, (255, 255, 255), 1)\n",
        "          except:\n",
        "            break\n",
        "  \n",
        "      # get face bounding box for overlay\n",
        "        \n",
        "      bbox_array[:,:,3] = (bbox_array.max(axis = 2) > 0 ).astype(int) * 255\n",
        "      # convert overlay of bbox into bytes\n",
        "      bbox_bytes = bbox_to_bytes(bbox_array)\n",
        "      # update bbox so next frame gets new overlay\n",
        "      bbox = bbox_bytes"
      ]
    },
    {
      "cell_type": "markdown",
      "metadata": {
        "id": "ZSrsYXLVWLh8"
      },
      "source": [
        "# Aplicação"
      ]
    },
    {
      "cell_type": "code",
      "source": [
        "executa_reconhecimento()"
      ],
      "metadata": {
        "id": "knNx30GiqyK7",
        "colab": {
          "base_uri": "https://localhost:8080/",
          "height": 17
        },
        "outputId": "d379e8a0-c585-4eb7-ae75-f182999a2c4e"
      },
      "execution_count": null,
      "outputs": [
        {
          "output_type": "display_data",
          "data": {
            "application/javascript": [
              "\n",
              "    var video;\n",
              "    var div = null;\n",
              "    var stream;\n",
              "    var captureCanvas;\n",
              "    var imgElement;\n",
              "    var labelElement;\n",
              "    \n",
              "    var pendingResolve = null;\n",
              "    var shutdown = false;\n",
              "    \n",
              "    function removeDom() {\n",
              "       stream.getVideoTracks()[0].stop();\n",
              "       video.remove();\n",
              "       div.remove();\n",
              "       video = null;\n",
              "       div = null;\n",
              "       stream = null;\n",
              "       imgElement = null;\n",
              "       captureCanvas = null;\n",
              "       labelElement = null;\n",
              "    }\n",
              "    \n",
              "    function onAnimationFrame() {\n",
              "      if (!shutdown) {\n",
              "        window.requestAnimationFrame(onAnimationFrame);\n",
              "      }\n",
              "      if (pendingResolve) {\n",
              "        var result = \"\";\n",
              "        if (!shutdown) {\n",
              "          captureCanvas.getContext('2d').drawImage(video, 0, 0, 640, 480);\n",
              "          result = captureCanvas.toDataURL('image/jpeg', 0.8)\n",
              "        }\n",
              "        var lp = pendingResolve;\n",
              "        pendingResolve = null;\n",
              "        lp(result);\n",
              "      }\n",
              "    }\n",
              "    \n",
              "    async function createDom() {\n",
              "      if (div !== null) {\n",
              "        return stream;\n",
              "      }\n",
              "\n",
              "      div = document.createElement('div');\n",
              "      div.style.border = '2px solid black';\n",
              "      div.style.padding = '3px';\n",
              "      div.style.width = '100%';\n",
              "      div.style.maxWidth = '600px';\n",
              "      document.body.appendChild(div);\n",
              "      \n",
              "      const modelOut = document.createElement('div');\n",
              "      modelOut.innerHTML = \"<span>Status:</span>\";\n",
              "      labelElement = document.createElement('span');\n",
              "      labelElement.innerText = 'Sem imagem';\n",
              "      labelElement.style.fontWeight = 'bold';\n",
              "      modelOut.appendChild(labelElement);\n",
              "      div.appendChild(modelOut);\n",
              "           \n",
              "      video = document.createElement('video');\n",
              "      video.style.display = 'block';\n",
              "      video.width = div.clientWidth - 6;\n",
              "      video.setAttribute('playsinline', '');\n",
              "      video.onclick = () => { shutdown = true; };\n",
              "      stream = await navigator.mediaDevices.getUserMedia(\n",
              "          {video: { facingMode: \"environment\"}});\n",
              "      div.appendChild(video);\n",
              "\n",
              "      imgElement = document.createElement('img');\n",
              "      imgElement.style.position = 'absolute';\n",
              "      imgElement.style.zIndex = 1;\n",
              "      imgElement.onclick = () => { shutdown = true; };\n",
              "      div.appendChild(imgElement);\n",
              "      \n",
              "      const instruction = document.createElement('div');\n",
              "      instruction.innerHTML = \n",
              "          '<span style=\"color: red; font-weight: bold;\">' +\n",
              "          'Clique na imagem para encerrar a execução</span>';\n",
              "      div.appendChild(instruction);\n",
              "      instruction.onclick = () => { shutdown = true; };\n",
              "      \n",
              "      video.srcObject = stream;\n",
              "      await video.play();\n",
              "\n",
              "      captureCanvas = document.createElement('canvas');\n",
              "      captureCanvas.width = 640; //video.videoWidth;\n",
              "      captureCanvas.height = 480; //video.videoHeight;\n",
              "      window.requestAnimationFrame(onAnimationFrame);\n",
              "      \n",
              "      return stream;\n",
              "    }\n",
              "    async function stream_frame(label, imgData) {\n",
              "      if (shutdown) {\n",
              "        removeDom();\n",
              "        shutdown = false;\n",
              "        return '';\n",
              "      }\n",
              "\n",
              "      var preCreate = Date.now();\n",
              "      stream = await createDom();\n",
              "      \n",
              "      var preShow = Date.now();\n",
              "      if (label != \"\") {\n",
              "        labelElement.innerHTML = label;\n",
              "      }\n",
              "            \n",
              "      if (imgData != \"\") {\n",
              "        var videoRect = video.getClientRects()[0];\n",
              "        imgElement.style.top = videoRect.top + \"px\";\n",
              "        imgElement.style.left = videoRect.left + \"px\";\n",
              "        imgElement.style.width = videoRect.width + \"px\";\n",
              "        imgElement.style.height = videoRect.height + \"px\";\n",
              "        imgElement.src = imgData;\n",
              "      }\n",
              "      \n",
              "      var preCapture = Date.now();\n",
              "      var result = await new Promise(function(resolve, reject) {\n",
              "        pendingResolve = resolve;\n",
              "      });\n",
              "      shutdown = false;\n",
              "      \n",
              "      return {'create': preShow - preCreate, \n",
              "              'show': preCapture - preShow, \n",
              "              'capture': Date.now() - preCapture,\n",
              "              'img': result};\n",
              "    }\n",
              "    "
            ],
            "text/plain": [
              "<IPython.core.display.Javascript object>"
            ]
          },
          "metadata": {}
        }
      ]
    }
  ],
  "metadata": {
    "colab": {
      "collapsed_sections": [],
      "name": "Metaforando - WebCam 2.0",
      "provenance": [],
      "include_colab_link": true
    },
    "kernelspec": {
      "display_name": "Python 3",
      "name": "python3"
    },
    "language_info": {
      "name": "python"
    }
  },
  "nbformat": 4,
  "nbformat_minor": 0
}